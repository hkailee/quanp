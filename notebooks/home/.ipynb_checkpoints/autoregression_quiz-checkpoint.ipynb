{
 "cells": [
  {
   "cell_type": "markdown",
   "metadata": {},
   "source": [
    "# Autoregressive moving average"
   ]
  },
  {
   "cell_type": "markdown",
   "metadata": {},
   "source": [
    "## Install packages"
   ]
  },
  {
   "cell_type": "code",
   "execution_count": null,
   "metadata": {
    "scrolled": true
   },
   "outputs": [],
   "source": [
    "import sys\n",
    "!{sys.executable} -m pip install -r requirements.txt"
   ]
  },
  {
   "cell_type": "code",
   "execution_count": null,
   "metadata": {},
   "outputs": [],
   "source": [
    "import pandas as pd\n",
    "import numpy as np\n",
    "import os\n",
    "from statsmodels.tsa.arima_model import ARMA\n",
    "import matplotlib.pyplot as plt\n",
    "import seaborn as sns\n",
    "import quiz_tests"
   ]
  },
  {
   "cell_type": "code",
   "execution_count": null,
   "metadata": {},
   "outputs": [],
   "source": [
    "sns.set()\n",
    "#note that for the figure size to show, this cell should be run\n",
    "#separately from the import of pyplot\n",
    "plt.style.use('ggplot')\n",
    "plt.rcParams['figure.figsize'] = (14, 8)"
   ]
  },
  {
   "cell_type": "markdown",
   "metadata": {},
   "source": [
    "## Simulate return series with autoregressive properties"
   ]
  },
  {
   "cell_type": "code",
   "execution_count": null,
   "metadata": {},
   "outputs": [],
   "source": [
    "from statsmodels.tsa.arima_process import ArmaProcess\n",
    "np.random.seed(200)\n",
    "\n",
    "ar_params = np.array([1, -0.5])\n",
    "ma_params = np.array([1, -0.3])\n",
    "ret = ArmaProcess(ar_params, ma_params).generate_sample(nsample=5*252)\n",
    "\n",
    "ret = pd.Series(ret)\n",
    "drift = 100\n",
    "price = pd.Series(np.cumsum(ret)) + drift"
   ]
  },
  {
   "cell_type": "code",
   "execution_count": null,
   "metadata": {},
   "outputs": [],
   "source": [
    "ret.plot(figsize=(15,6), color=sns.xkcd_rgb[\"pale purple\"], title=\"simulated return series\")\n",
    "plt.show()"
   ]
  },
  {
   "cell_type": "code",
   "execution_count": null,
   "metadata": {},
   "outputs": [],
   "source": [
    "price.plot(figsize=(15,6), color=sns.xkcd_rgb[\"baby blue\"], title=\"simulated price series\")\n",
    "plt.show()"
   ]
  },
  {
   "cell_type": "markdown",
   "metadata": {},
   "source": [
    "### log returns"
   ]
  },
  {
   "cell_type": "code",
   "execution_count": null,
   "metadata": {},
   "outputs": [],
   "source": [
    "lret = np.log(price) - np.log(price.shift(1))\n",
    "lret = lret[1:]"
   ]
  },
  {
   "cell_type": "markdown",
   "metadata": {},
   "source": [
    "## autocorrelation\n",
    "\n",
    "Use autocorrelation to get a sense of what lag to use for the autoregressive model.  "
   ]
  },
  {
   "cell_type": "code",
   "execution_count": null,
   "metadata": {},
   "outputs": [],
   "source": [
    "from statsmodels.graphics.tsaplots import plot_acf"
   ]
  },
  {
   "cell_type": "code",
   "execution_count": null,
   "metadata": {},
   "outputs": [],
   "source": [
    "_ = plot_acf(lret,lags=10, title='log return autocorrelation')"
   ]
  },
  {
   "cell_type": "markdown",
   "metadata": {},
   "source": [
    "Since the sample series was simulated to have autoregressive properties, we also see autocorrelation between the current periods and the lags.\n",
    "\n",
    "Note that with actual stock data, there won't be much autocorrelation of returns from one day to the next.  \n",
    "Stock returns (log returns and normal returns) can be described as a \"random walk\", in that each new period's value is more or less random."
   ]
  },
  {
   "cell_type": "markdown",
   "metadata": {},
   "source": [
    "## plot partial autocorrelation"
   ]
  },
  {
   "cell_type": "code",
   "execution_count": null,
   "metadata": {},
   "outputs": [],
   "source": [
    "from statsmodels.graphics.tsaplots import plot_pacf"
   ]
  },
  {
   "cell_type": "markdown",
   "metadata": {},
   "source": [
    "Notice how the partial autocorrelation of price shows that most of the correlation is found in the previous period.  Partial autocorrelation is different from autocorrelation in that it shows the influence of each period that is not attributed to the other periods leading up to the current period.  In other words, the two-day lag had a fairly strong correlation with the current value because it had a strong correlation with the one-day lag. However, the two-day lag's partial correlation with the current period that isn't attributable to the one-day lag is relatively small."
   ]
  },
  {
   "cell_type": "code",
   "execution_count": null,
   "metadata": {},
   "outputs": [],
   "source": [
    "_ = plot_pacf(lret, lags=10, title='log return Partial Autocorrelation', color=sns.xkcd_rgb[\"crimson\"])"
   ]
  },
  {
   "cell_type": "markdown",
   "metadata": {},
   "source": [
    "## Discussion\n",
    "\n",
    "Notice that there isn't much correlation between previous periods with the current period.  In general, using past stock returns to predict future stock returns is rather difficult.  Volatility tends to have more of a correlation with past volatility.  We'll cover volatility in a later lesson within this module."
   ]
  },
  {
   "cell_type": "markdown",
   "metadata": {},
   "source": [
    "## Ljung-Box Test\n",
    "\n",
    "The Ljung-Box test helps us check whether the lag we chose gives autocorrelations that are significantly different from zero.  The null hypothesis is that the previous lags as a whole are not correlated with the current period.  If the p-value is small enough (say 0.05), we can reject the null and assume that the past lags have some correlation with the current period.\n",
    "\n",
    "```\n",
    "\n",
    "returns:\n",
    "lbvalue (float or array) – test statistic\n",
    "pvalue (float or array) – p-value based on chi-square distribution\n",
    "... (we'll ignore the other outputs, which are for another similar hypothesis test)\n",
    "```"
   ]
  },
  {
   "cell_type": "code",
   "execution_count": null,
   "metadata": {},
   "outputs": [],
   "source": [
    "from statsmodels.stats.diagnostic import acorr_ljungbox"
   ]
  },
  {
   "cell_type": "code",
   "execution_count": null,
   "metadata": {},
   "outputs": [],
   "source": [
    "lb_test_stat, lb_p_value = acorr_ljungbox(lret,lags=20)\n",
    "lb_p_value"
   ]
  },
  {
   "cell_type": "markdown",
   "metadata": {},
   "source": [
    "## Discussion\n",
    "\n",
    "Since this series was simulated to have autoregressive properties, the Ljung-Box test shows p-values less than 0.05 for the 20 lag periods that we tested."
   ]
  },
  {
   "cell_type": "markdown",
   "metadata": {},
   "source": [
    "## Fit an ARMA model\n",
    "\n",
    "For the purpose of familiarizing ourselves with the ARMA model, we'll fit the model to our simulated return series.\n",
    "\n",
    "We'll just use one lag for the autoregression and one lag for the moving average.  \n",
    "Check out the [statsmodel arma](https://www.statsmodels.org/dev/generated/statsmodels.tsa.arima_model.ARMA.html) documentation."
   ]
  },
  {
   "cell_type": "code",
   "execution_count": null,
   "metadata": {},
   "outputs": [],
   "source": [
    "from statsmodels.tsa.arima_model import ARMA"
   ]
  },
  {
   "cell_type": "code",
   "execution_count": null,
   "metadata": {},
   "outputs": [],
   "source": [
    "AR_lag_p = 1\n",
    "MA_lag_q = 1\n",
    "order = (AR_lag_p, MA_lag_q)\n",
    "arma_model = ARMA(lret.values, order=order)\n",
    "arma_result = arma_model.fit()\n",
    "arma_pred = pd.Series(arma_result.fittedvalues)"
   ]
  },
  {
   "cell_type": "markdown",
   "metadata": {},
   "source": [
    "## View fitted predictions against actual values"
   ]
  },
  {
   "cell_type": "code",
   "execution_count": null,
   "metadata": {},
   "outputs": [],
   "source": [
    "plt.plot(lret, color=sns.xkcd_rgb[\"pale purple\"])\n",
    "plt.plot(arma_pred, color=sns.xkcd_rgb[\"dark sky blue\"])\n",
    "plt.title('Log returns and predictions using an ARMA(p=1,q=1) model');\n",
    "print(f\"Fitted AR parameter {arma_result.arparams[0]:.2f}, MA parameter {arma_result.maparams[0]:.2f}\")"
   ]
  },
  {
   "cell_type": "markdown",
   "metadata": {},
   "source": [
    "## Discussion\n",
    "\n",
    "In general, autoregressive moving average models are not able forecast stock returns because stock returns are non-stationary and also quite noisy.\n",
    "\n",
    "There are other techniques that build upon the concepts of ARMA models, so the goal here was really to help you get familiar with these concepts, as they are the basis for other models that you'll see later in this module."
   ]
  },
  {
   "cell_type": "markdown",
   "metadata": {},
   "source": [
    "## Quiz: ARIMA\n",
    "\n",
    "Fit an autoregressive integrated moving average model.  Choose an order of integration of 1, autoregresion lag of 1, and moving average lag of 1.\n",
    "\n",
    "Check out the [stats model arima](http://www.statsmodels.org/0.6.1/generated/statsmodels.tsa.arima_model.ARMAResults.html) documentation to help you."
   ]
  },
  {
   "cell_type": "code",
   "execution_count": null,
   "metadata": {},
   "outputs": [],
   "source": [
    "from statsmodels.tsa.arima_model import ARIMA"
   ]
  },
  {
   "cell_type": "code",
   "execution_count": null,
   "metadata": {},
   "outputs": [],
   "source": [
    "def fit_arima(lret):\n",
    "    \n",
    "    #TODO: choose autoregression lag of 1\n",
    "    AR_lag_p =\n",
    "    \n",
    "    #TODO: choose moving average lag of 1\n",
    "    MA_lag_q =\n",
    "    \n",
    "    #TODO: choose order of integration 1\n",
    "    order_of_integration_d =\n",
    "    \n",
    "    #TODO: Create a tuple of p,d,q\n",
    "    order = \n",
    "    \n",
    "    #TODO: create an ARIMA model object, passing in the values of the lret pandas series,\n",
    "    # and the tuple containing the (p,d,q) order arguments\n",
    "    arima_model = \n",
    "    \n",
    "    arima_result = arima_model.fit()\n",
    "    \n",
    "    #TODO: from the result of calling ARIMA.fit(),\n",
    "    # save and return the fitted values, autoregression parameters, and moving average parameters\n",
    "    fittedvalues =\n",
    "    arparams = \n",
    "    maparams = \n",
    "   \n",
    "    return fittedvalues,arparams,maparams\n",
    "\n",
    "quiz_tests.test_fit_arima(fit_arima)"
   ]
  },
  {
   "cell_type": "code",
   "execution_count": null,
   "metadata": {},
   "outputs": [],
   "source": [
    "fittedvalues,arparams,maparams = fit_arima(lret)\n",
    "arima_pred = pd.Series(fittedvalues)\n",
    "plt.plot(lret, color=sns.xkcd_rgb[\"pale purple\"])\n",
    "plt.plot(arima_pred, color=sns.xkcd_rgb[\"jade green\"])\n",
    "plt.title('Log Returns and predictions using an ARIMA(p=1,d=1,q=1) model');\n",
    "print(f\"fitted AR parameter {arparams[0]:.2f}, MA parameter {maparams[0]:.2f}\")"
   ]
  },
  {
   "cell_type": "markdown",
   "metadata": {},
   "source": [
    "If you're stuck, you can also check out the solution [here](autoregression_solution.ipynb)"
   ]
  }
 ],
 "metadata": {
  "kernelspec": {
   "display_name": "Python 3",
   "language": "python",
   "name": "python3"
  },
  "language_info": {
   "codemirror_mode": {
    "name": "ipython",
    "version": 3
   },
   "file_extension": ".py",
   "mimetype": "text/x-python",
   "name": "python",
   "nbconvert_exporter": "python",
   "pygments_lexer": "ipython3",
   "version": "3.6.4"
  }
 },
 "nbformat": 4,
 "nbformat_minor": 2
}
