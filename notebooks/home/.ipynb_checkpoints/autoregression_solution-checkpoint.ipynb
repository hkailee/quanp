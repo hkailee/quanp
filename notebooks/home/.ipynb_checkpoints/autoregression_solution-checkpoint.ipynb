{
 "cells": [
  {
   "cell_type": "markdown",
   "metadata": {},
   "source": [
    "# Autoregressive moving average"
   ]
  },
  {
   "cell_type": "markdown",
   "metadata": {},
   "source": [
    "## Install packages"
   ]
  },
  {
   "cell_type": "code",
   "execution_count": null,
   "metadata": {
    "scrolled": true
   },
   "outputs": [],
   "source": [
    "import sys\n",
    "!{sys.executable} -m pip install -r requirements.txt"
   ]
  },
  {
   "cell_type": "code",
   "execution_count": null,
   "metadata": {},
   "outputs": [],
   "source": [
    "import pandas as pd\n",
    "import numpy as np\n",
    "import os\n",
    "from statsmodels.tsa.arima_model import ARMA\n",
    "import matplotlib.pyplot as plt\n",
    "import seaborn as sns\n",
    "import quiz_tests"
   ]
  },
  {
   "cell_type": "code",
   "execution_count": null,
   "metadata": {},
   "outputs": [],
   "source": [
    "sns.set()\n",
    "#note that for the figure size to show, this cell should be run\n",
    "#separately from the import of pyplot\n",
    "plt.style.use('ggplot')\n",
    "plt.rcParams['figure.figsize'] = (14, 8)"
   ]
  },
  {
   "cell_type": "markdown",
   "metadata": {},
   "source": [
    "## Simulate return series with autoregressive properties"
   ]
  },
  {
   "cell_type": "code",
   "execution_count": null,
   "metadata": {},
   "outputs": [],
   "source": [
    "from statsmodels.tsa.arima_process import ArmaProcess\n",
    "np.random.seed(200)\n",
    "\n",
    "ar_params = np.array([1, -0.5])\n",
    "ma_params = np.array([1, -0.3])\n",
    "ret = ArmaProcess(ar_params, ma_params).generate_sample(nsample=5*252)\n",
    "\n",
    "ret = pd.Series(ret)\n",
    "drift = 100\n",
    "price = pd.Series(np.cumsum(ret)) + drift"
   ]
  },
  {
   "cell_type": "markdown",
   "metadata": {},
   "source": [
    "### log returns"
   ]
  },
  {
   "cell_type": "code",
   "execution_count": null,
   "metadata": {},
   "outputs": [],
   "source": [
    "lret = np.log(price) - np.log(price.shift(1))\n",
    "lret = lret[1:]"
   ]
  },
  {
   "cell_type": "markdown",
   "metadata": {},
   "source": [
    "## Quiz Solution: ARIMA\n",
    "\n",
    "Fit an autoregressive integrated moving average model.  Choose an order of integration of 1, autoregresion lag of 1, and moving average lag of 1.\n",
    "\n",
    "Check out the [stats model arima](http://www.statsmodels.org/0.6.1/generated/statsmodels.tsa.arima_model.ARMAResults.html) documentation to help you."
   ]
  },
  {
   "cell_type": "code",
   "execution_count": null,
   "metadata": {},
   "outputs": [],
   "source": [
    "from statsmodels.tsa.arima_model import ARIMA"
   ]
  },
  {
   "cell_type": "code",
   "execution_count": null,
   "metadata": {},
   "outputs": [],
   "source": [
    "def fit_arima(lret):\n",
    "    \n",
    "    #TODO: choose autoregression lag of 1\n",
    "    AR_lag_p = 1\n",
    "    \n",
    "    #TODO: choose moving average lag of 1\n",
    "    MA_lag_q = 1\n",
    "    \n",
    "    #TODO: choose order of integration 1\n",
    "    order_of_integration_d = 1\n",
    "    \n",
    "    #TODO: Create a tuple of p,d,q\n",
    "    order = (AR_lag_p, order_of_integration_d, MA_lag_q)\n",
    "    \n",
    "    #TODO: create an ARIMA model object, passing in the values of the lret pandas series,\n",
    "    # and the tuple containing the (p,d,q) order arguments\n",
    "    arima_model = ARIMA(lret.values, order=order)\n",
    "    arima_result = arima_model.fit()\n",
    "    \n",
    "    #TODO: from the result of calling ARIMA.fit(),\n",
    "    # save and return the fitted values, autoregression parameters, and moving average parameters\n",
    "    fittedvalues = arima_result.fittedvalues\n",
    "    arparams = arima_result.arparams\n",
    "    maparams = arima_result.maparams\n",
    "   \n",
    "    return fittedvalues,arparams,maparams\n",
    "\n",
    "quiz_tests.test_fit_arima(fit_arima)"
   ]
  },
  {
   "cell_type": "code",
   "execution_count": null,
   "metadata": {},
   "outputs": [],
   "source": [
    "fittedvalues,arparams,maparams = fit_arima(lret)\n",
    "arima_pred = pd.Series(fittedvalues)\n",
    "plt.plot(lret, color=sns.xkcd_rgb[\"pale purple\"])\n",
    "plt.plot(arima_pred, color=sns.xkcd_rgb[\"jade green\"])\n",
    "plt.title('Log Returns and predictions using an ARIMA(p=1,d=1,q=1) model');\n",
    "print(f\"fitted AR parameter {arparams[0]:.2f}, MA parameter {maparams[0]:.2f}\")"
   ]
  }
 ],
 "metadata": {
  "kernelspec": {
   "display_name": "Python 3",
   "language": "python",
   "name": "python3"
  },
  "language_info": {
   "codemirror_mode": {
    "name": "ipython",
    "version": 3
   },
   "file_extension": ".py",
   "mimetype": "text/x-python",
   "name": "python",
   "nbconvert_exporter": "python",
   "pygments_lexer": "ipython3",
   "version": "3.6.4"
  }
 },
 "nbformat": 4,
 "nbformat_minor": 2
}
